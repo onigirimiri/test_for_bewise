{
 "cells": [
  {
   "cell_type": "code",
   "execution_count": 263,
   "metadata": {},
   "outputs": [],
   "source": [
    "import nltk\n",
    "from nltk.corpus import stopwords\n",
    "from nltk import tokenize\n",
    "from nltk.tokenize import MWETokenizer\n",
    "from string import punctuation\n",
    "import csv\n",
    "import pymorphy2\n",
    "import gensim\n",
    "import re\n",
    "import json\n",
    "import unicodedata\n",
    "from wiktionaryparser import WiktionaryParser\n",
    "parser = WiktionaryParser()\n",
    "from copy import deepcopy"
   ]
  },
  {
   "cell_type": "markdown",
   "metadata": {},
   "source": [
    "a. Извлекать реплики с приветствием – где менеджер поздоровался.\n",
    "b. Извлекать реплики, где менеджер представил себя.\n",
    "c. Извлекать имя менеджера.\n",
    "d. Извлекать название компании.\n",
    "e. Извлекать реплики, где менеджер попрощался.\n",
    "f. Проверять требование к менеджеру: «В каждом диалоге\n",
    "обязательно необходимо поздороваться и попрощаться с\n",
    "клиентом»"
   ]
  },
  {
   "cell_type": "code",
   "execution_count": 264,
   "metadata": {},
   "outputs": [],
   "source": [
    "rus_stop = stopwords.words('russian') #всякие важные переменные\n",
    "digits = [str(i) for i in range(1000)]\n",
    "tok = tokenize.MWETokenizer(separator=' ')\n",
    "#toknorm = tokenize.WordPunctTokenizer()\n",
    "morph = pymorphy2.MorphAnalyzer()"
   ]
  },
  {
   "cell_type": "code",
   "execution_count": 265,
   "metadata": {
    "scrolled": true
   },
   "outputs": [],
   "source": [
    "text = []\n",
    "roles = []\n",
    "dlg = []\n",
    "with open('test_data.csv', newline='') as data:\n",
    "    reader = csv.DictReader(data)\n",
    "    for row in reader:\n",
    "        text.append(row['text']) # заливаю все реплики в один список\n",
    "        roles.append(row['role'])\n",
    "        dlg.append(row['dlg_id'])\n"
   ]
  },
  {
   "cell_type": "code",
   "execution_count": 266,
   "metadata": {},
   "outputs": [],
   "source": [
    "for phrase in range(len(text)):\n",
    "    text[phrase] = text[phrase].split(' ') #разделила фразы в тексте на списки\n",
    "    for word in text[phrase]:\n",
    "        if word in (rus_stop): #отсекаю цифры и стоп-слова\n",
    "            text[phrase].remove(word)\n",
    "orig = deepcopy(text)\n",
    "orig_trig = deepcopy(text)"
   ]
  },
  {
   "cell_type": "code",
   "execution_count": 267,
   "metadata": {
    "scrolled": true
   },
   "outputs": [],
   "source": [
    "for phrase in range(len(text)):\n",
    "    text[phrase] = ' '.join(text[phrase])\n",
    "prog = re.compile('[А-Яа-я]+') # некоторые выражения употребляются комплексно, ищем биграммы\n",
    "text_for_bigram = (\" \").join(text)\n",
    "bigramm = list(nltk.bigrams(prog.findall(str(text_for_bigram).lower())))\n",
    "bgfd = nltk.FreqDist(bigramm)\n",
    "#bgfd.most_common(100)[1][0]\n",
    "#bgfd.most_common(100)[0][0][0]+ ' ' + bgfd.most_common(100)[0][0][1]\n",
    "#bigramm\n",
    "bgfd.most_common(100)\n",
    "for i in range(len(bgfd.most_common(100))):\n",
    "    tok.add_mwe(bgfd.most_common(100)[i][0]) #заливаем словосочитания в словарь"
   ]
  },
  {
   "cell_type": "code",
   "execution_count": 268,
   "metadata": {},
   "outputs": [],
   "source": [
    "for phrase in range(len(text)):\n",
    "    tok_phrase_norm = nltk.word_tokenize((text[phrase].lower()))\n",
    "    text[phrase] = tok.tokenize(tok_phrase_norm)"
   ]
  },
  {
   "cell_type": "code",
   "execution_count": 269,
   "metadata": {},
   "outputs": [
    {
     "name": "stdout",
     "output_type": "stream",
     "text": [
      "a) Менеджер поздоровался в следующих фразах:\n",
      "Диалог 0\n",
      "алло здравствуйте\n",
      "Диалог 1\n",
      "алло здравствуйте\n",
      "Диалог 2\n",
      "алло здравствуйте\n",
      "Диалог 3\n",
      "алло дмитрий добрый день\n"
     ]
    }
   ],
   "source": [
    "# поиск приветствий\n",
    "hi_wiki = parser.fetch('здравствуй','russian') # для того чтобы найти приветствия смотрим синонимы в словаре\n",
    "hi_syn_emph = hi_wiki[0]['definitions'][0]['examples'][0]\n",
    "hi_syn_norm = hi_syn_emph.encode('utf-8').replace(b'\\xcc\\x81', b'').decode('utf-8') #синонимы имеют ударения, убираем их\n",
    "hi_syn_norm.encode('utf-8')\n",
    "hi_syn_norm_list = hi_syn_norm.split()\n",
    "hi_syn_norm_list.append(\"добрый день\");hi_syn_norm_list.append('здравствуй')\n",
    "hi_list_manager_phrase = []\n",
    "print(\"a) Менеджер поздоровался в следующих фразах:\")\n",
    "for phrases in range(len(text)):\n",
    "    #print(text[phrases])\n",
    "    for word in range(len(text[phrases])):\n",
    "        if (text[phrases][word].lower() in hi_syn_norm_list) and roles[phrases] == 'manager':\n",
    "            #print(text[phrases][word].lower())\n",
    "            if phrases not in hi_list_manager_phrase:\n",
    "                hi_list_manager_phrase.append(phrases)\n",
    "        words = text[phrases][word].split(\" \")        \n",
    "        for subword in words:\n",
    "            if (subword.lower() in hi_syn_norm_list) and roles[phrases] == 'manager':\n",
    "                if phrases not in hi_list_manager_phrase:\n",
    "                    hi_list_manager_phrase.append(phrases)\n",
    "hi_list_manager_phrase.sort(key=None)\n",
    "for i in range(len(hi_list_manager_phrase)):\n",
    "    print(f\"Диалог {dlg[hi_list_manager_phrase[i]]}\\n{' '.join(text[hi_list_manager_phrase[i]])}\")"
   ]
  },
  {
   "cell_type": "code",
   "execution_count": 270,
   "metadata": {},
   "outputs": [
    {
     "name": "stdout",
     "output_type": "stream",
     "text": [
      "b) Менеджер назвал свое имя в следующих фразах:\n",
      "Диалог 0\n",
      "Меня зовут ангелина компания диджитал бизнес звоним по поводу продления лицензии мы серым вас скоро срок заканчивается\n",
      "Диалог 1\n",
      "Меня зовут ангелина компания диджитал бизнес звоню по поводу продления мы сели обратила внимание у срок заканчивается\n",
      "Диалог 2\n",
      "Меня зовут ангелина компания диджитал бизнес звоню поводу продления лицензии мастера с вами сотрудничали по видео\n",
      "Диалог 3\n",
      "Добрый максим зовут компания китобизнес удобно говорить\n",
      "Диалог 5\n",
      "Да это анастасия\n",
      "\n",
      "c) Имя менеджера:\n",
      "Диалог 0\n",
      " ангелина\n",
      "Диалог 1\n",
      " ангелина\n",
      "Диалог 2\n",
      " ангелина\n",
      "Диалог 3\n",
      " максим\n",
      "Диалог 5\n",
      " анастасия\n"
     ]
    }
   ],
   "source": [
    "prob_thresh = 0.4\n",
    "dlg_name = []\n",
    "dlg_num = []\n",
    "print(\"b) Менеджер назвал свое имя в следующих фразах:\")\n",
    "for or_phrase in range(len(orig)):\n",
    "        for or_words in range(len(orig[or_phrase])):\n",
    "            for p in morph.parse((orig[or_phrase][or_words])):\n",
    "                if 'Name' in p.tag and p.score >= prob_thresh:\n",
    "                    if ((\"зовут\" in orig[or_phrase]) or (\"это\" in orig[or_phrase])) and (roles[or_phrase] == \"manager\"):\n",
    "                        print(f\"Диалог {dlg[or_phrase]}\\n{(' ').join(orig[or_phrase])}\")\n",
    "            g = morph.parse(orig[or_phrase][or_words])[0]\n",
    "            if 'Name' in g.tag and g.score >= prob_thresh and (roles[or_phrase] == \"manager\") and ((\"зовут\" in orig[or_phrase]) or (\"это\" in orig[or_phrase])):\n",
    "                dlg_name.append(orig[or_phrase][or_words])\n",
    "                dlg_num.append(dlg[or_phrase])\n",
    "print(\"\\nc) Имя менеджера:\")\n",
    "for i in range(len(dlg_name)):\n",
    "    print(f\"Диалог {dlg_num[i]}\\n {dlg_name[i]}\")"
   ]
  },
  {
   "cell_type": "code",
   "execution_count": 271,
   "metadata": {},
   "outputs": [
    {
     "name": "stdout",
     "output_type": "stream",
     "text": [
      "d) В диалогах упоминались компании:\n",
      "диджитал бизнес\n",
      "китобизнес\n"
     ]
    }
   ],
   "source": [
    "print(\"d) В диалогах упоминались компании:\")\n",
    "for i in range(len(tgfd.most_common(100))):\n",
    "    if \"компания\" in tgfd.most_common(100)[i][0][0]:\n",
    "        print(tgfd.most_common(100)[i][0][1],tgfd.most_common(100)[i][0][2])\n",
    "for i in range(len(bgfd.most_common(1000000))):\n",
    "    if \"компания\" in bgfd.most_common(1000000)[i][0][0]:\n",
    "        #print(bgfd.most_common(1000000)[i][0])\n",
    "        g = morph.parse(bgfd.most_common(1000000)[i][0][1])[0]\n",
    "        if 'NOUN' in g.tag and g.score >= prob_thresh:\n",
    "            print(bgfd.most_common(1000000)[i][0][1])"
   ]
  },
  {
   "cell_type": "code",
   "execution_count": 272,
   "metadata": {},
   "outputs": [
    {
     "name": "stdout",
     "output_type": "stream",
     "text": [
      "e) Менеджер попрощался в следующих фразах:\n",
      "Диалог 0\n",
      "Всего хорошего свидания\n",
      "Диалог 1\n",
      "До свидания\n",
      "Диалог 4\n",
      "Во вторник ну вами тогда вторника свидания\n",
      "Диалог 5\n",
      "Ну свидания хорошего вечера\n"
     ]
    }
   ],
   "source": [
    "bye_wiki = parser.fetch('до свидания','russian') # для того чтобы найти приветствия смотрим синонимы в словаре\n",
    "bye_syn_emph = bye_wiki[0]['definitions'][0]['examples'][0]\n",
    "bye_syn_norm = bye_syn_emph.encode('utf-8').replace(b'\\xcc\\x81', b'').decode('utf-8') #синонимы имеют ударения, убираем их\n",
    "bye_syn_norm.encode('utf-8')\n",
    "bye_syn_norm_list = bye_syn_norm.split()\n",
    "bye_syn_norm_list.remove('пока');bye_syn_norm_list.remove('до')\n",
    "bye_syn_norm_list.append(\"до свидания\");bye_syn_norm_list.append(\"свидания\");bye_syn_norm_list.append(\"встречи\");bye_syn_norm_list.append(\"до встречи\")\n",
    "#print(hi_syn_norm_list)\n",
    "bye_list_manager_phrase = []\n",
    "print(\"e) Менеджер попрощался в следующих фразах:\")\n",
    "for phrases in range(len(text)):\n",
    "    for word in range(len(text[phrases])):\n",
    "        if (text[phrases][word].lower() in bye_syn_norm_list) and roles[phrases] == 'manager':\n",
    "            #print(text[phrases][word].lower())\n",
    "            if phrases not in bye_list_manager_phrase:\n",
    "                bye_list_manager_phrase.append(phrases)\n",
    "        words = text[phrases][word].split(\" \")        \n",
    "        for subword in words:\n",
    "            if (subword.lower() in bye_syn_norm_list) and roles[phrases] == 'manager':\n",
    "                if phrases not in bye_list_manager_phrase:\n",
    "                    bye_list_manager_phrase.append(phrases)\n",
    "bye_list_manager_phrase.sort(key=None)\n",
    "#print(bye_list_manager_phrase)\n",
    "for i in range(len(bye_list_manager_phrase)):\n",
    "    print(f\"Диалог {dlg[bye_list_manager_phrase[i]]}\\n{' '.join(orig[bye_list_manager_phrase[i]])}\")"
   ]
  },
  {
   "cell_type": "code",
   "execution_count": 273,
   "metadata": {},
   "outputs": [
    {
     "name": "stdout",
     "output_type": "stream",
     "text": [
      "f) Менеджер поздоровался и попрощался:\n",
      "В диалоге 0\n",
      "В диалоге 1\n"
     ]
    }
   ],
   "source": [
    "print(\"f) Менеджер поздоровался и попрощался:\")\n",
    "dlg_bye = []\n",
    "for i in range(len(bye_list_manager_phrase)):\n",
    "    dlg_bye.append(dlg[bye_list_manager_phrase[i]])\n",
    "for hi in range(len(hi_list_manager_phrase)):\n",
    "    if dlg[hi_list_manager_phrase[hi]] in dlg_bye:\n",
    "        print(f\"В диалоге {dlg[hi_list_manager_phrase[hi]]}\")"
   ]
  },
  {
   "cell_type": "code",
   "execution_count": null,
   "metadata": {},
   "outputs": [],
   "source": []
  }
 ],
 "metadata": {
  "kernelspec": {
   "display_name": "Python 3",
   "language": "python",
   "name": "python3"
  },
  "language_info": {
   "codemirror_mode": {
    "name": "ipython",
    "version": 3
   },
   "file_extension": ".py",
   "mimetype": "text/x-python",
   "name": "python",
   "nbconvert_exporter": "python",
   "pygments_lexer": "ipython3",
   "version": "3.8.8"
  }
 },
 "nbformat": 4,
 "nbformat_minor": 4
}
